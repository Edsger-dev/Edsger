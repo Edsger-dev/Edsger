{
 "cells": [
  {
   "cell_type": "markdown",
   "metadata": {},
   "source": [
    "# Benchmark of edsger.shortestpath.path_length\n",
    "\n",
    "https://www.timlrx.com/2019/05/05/benchmark-of-popular-graph-network-packages/\n",
    "\n",
    "[Stanford Large Network Dataset Collection](https://snap.stanford.edu/data/index.html)"
   ]
  },
  {
   "cell_type": "code",
   "execution_count": 1,
   "metadata": {},
   "outputs": [],
   "source": [
    "import os\n",
    "\n",
    "import numpy as np\n",
    "import pandas as pd\n",
    "import networkx as nx\n",
    "import matplotlib.pyplot as plt\n",
    "plt.style.use('seaborn')\n",
    "%matplotlib inline\n",
    "\n",
    "from edsger.shortestpath import convert_sorted_graph_to_csr, path_length\n",
    "from edsger.commons import INFINITY_PY, UITYPE_PY\n",
    "\n",
    "rs = 124\n",
    "np.random.seed(rs)\n",
    "data_dir_path = '../../data/'"
   ]
  },
  {
   "cell_type": "markdown",
   "metadata": {},
   "source": [
    "| test case | NetworkX loading | NetworkX sssp | Edsger loading | Edsger sssp 1 |\n",
    "|-----------|-----------------:|--------------:|---------------:|--------------:|\n",
    "| Amazon    |   5.13 |  1.47 | 0.03 | 0.14 |\n",
    "| Google    |  21.60 |  5.21 | 0.12 | 0.55 |\n",
    "| Pokec     | 125.00 | 39.90 | 0.55 | 2.69 |\n"
   ]
  },
  {
   "cell_type": "markdown",
   "metadata": {},
   "source": [
    "##  Amazon product co-purchasing network, March 02 2003\n",
    "\n",
    "https://snap.stanford.edu/data/amazon0302.html\n",
    "\n",
    "Nodes: 262111   \n",
    "Edges: 1234877"
   ]
  },
  {
   "cell_type": "code",
   "execution_count": 2,
   "metadata": {},
   "outputs": [],
   "source": [
    "network_file_path = os.path.join(data_dir_path, \"Amazon0302.txt\")"
   ]
  },
  {
   "cell_type": "code",
   "execution_count": 3,
   "metadata": {},
   "outputs": [
    {
     "data": {
      "text/html": [
       "<div>\n",
       "<style scoped>\n",
       "    .dataframe tbody tr th:only-of-type {\n",
       "        vertical-align: middle;\n",
       "    }\n",
       "\n",
       "    .dataframe tbody tr th {\n",
       "        vertical-align: top;\n",
       "    }\n",
       "\n",
       "    .dataframe thead th {\n",
       "        text-align: right;\n",
       "    }\n",
       "</style>\n",
       "<table border=\"1\" class=\"dataframe\">\n",
       "  <thead>\n",
       "    <tr style=\"text-align: right;\">\n",
       "      <th></th>\n",
       "      <th>tail_vert</th>\n",
       "      <th>head_vert</th>\n",
       "      <th>cost</th>\n",
       "    </tr>\n",
       "  </thead>\n",
       "  <tbody>\n",
       "    <tr>\n",
       "      <th>0</th>\n",
       "      <td>0</td>\n",
       "      <td>1</td>\n",
       "      <td>0.106065</td>\n",
       "    </tr>\n",
       "    <tr>\n",
       "      <th>1</th>\n",
       "      <td>0</td>\n",
       "      <td>2</td>\n",
       "      <td>0.745471</td>\n",
       "    </tr>\n",
       "  </tbody>\n",
       "</table>\n",
       "</div>"
      ],
      "text/plain": [
       "   tail_vert  head_vert      cost\n",
       "0          0          1  0.106065\n",
       "1          0          2  0.745471"
      ]
     },
     "execution_count": 3,
     "metadata": {},
     "output_type": "execute_result"
    }
   ],
   "source": [
    "amazon = pd.read_csv(network_file_path, sep='\\t', skiprows=3, header=0)\n",
    "amazon.columns = ['tail_vert', 'head_vert']\n",
    "# amazon['cost'] = 1.\n",
    "amazon['cost'] = np.random.rand(len(amazon))\n",
    "amazon.head(2)"
   ]
  },
  {
   "cell_type": "code",
   "execution_count": 4,
   "metadata": {},
   "outputs": [
    {
     "name": "stdout",
     "output_type": "stream",
     "text": [
      "<class 'pandas.core.frame.DataFrame'>\n",
      "RangeIndex: 1234877 entries, 0 to 1234876\n",
      "Data columns (total 3 columns):\n",
      "tail_vert    1234877 non-null int64\n",
      "head_vert    1234877 non-null int64\n",
      "cost         1234877 non-null float64\n",
      "dtypes: float64(1), int64(2)\n",
      "memory usage: 28.3 MB\n"
     ]
    }
   ],
   "source": [
    "amazon.info()"
   ]
  },
  {
   "cell_type": "code",
   "execution_count": 5,
   "metadata": {},
   "outputs": [],
   "source": [
    "n_vertices = 262111"
   ]
  },
  {
   "cell_type": "markdown",
   "metadata": {},
   "source": [
    "### NetworkX"
   ]
  },
  {
   "cell_type": "code",
   "execution_count": 6,
   "metadata": {},
   "outputs": [],
   "source": [
    "# %%time\n",
    "# G = nx.from_pandas_edgelist(amazon, 'tail_vert', 'head_vert', ['cost'], create_using=nx.DiGraph)"
   ]
  },
  {
   "cell_type": "code",
   "execution_count": 7,
   "metadata": {},
   "outputs": [],
   "source": [
    "# %%time\n",
    "# cost_nx = nx.algorithms.single_source_dijkstra_path_length(G, 0, weight='cost')"
   ]
  },
  {
   "cell_type": "code",
   "execution_count": 8,
   "metadata": {},
   "outputs": [],
   "source": [
    "# %%time\n",
    "# cost_nx_df = pd.DataFrame(data=cost_nx.values(), index=cost_nx.keys(), columns=['path_length']).sort_index()\n",
    "# cost_nx_df.head(2)"
   ]
  },
  {
   "cell_type": "markdown",
   "metadata": {},
   "source": [
    "### Edsger"
   ]
  },
  {
   "cell_type": "code",
   "execution_count": 9,
   "metadata": {},
   "outputs": [],
   "source": [
    "# amazon.sort_values(by=['tail_vert', 'head_vert'], ascending=True, inplace=True)\n",
    "assert amazon.index.is_monotonic\n",
    "assert amazon.index.is_unique\n",
    "assert amazon.index.min() == 0\n",
    "assert amazon.index.max() + 1 == len(amazon)"
   ]
  },
  {
   "cell_type": "code",
   "execution_count": 10,
   "metadata": {},
   "outputs": [
    {
     "name": "stdout",
     "output_type": "stream",
     "text": [
      "CPU times: user 24.7 ms, sys: 4.14 ms, total: 28.9 ms\n",
      "Wall time: 27.8 ms\n"
     ]
    }
   ],
   "source": [
    "%%time\n",
    "tail_vert = amazon.tail_vert.values.astype(UITYPE_PY)\n",
    "head_vert = amazon.head_vert.values.astype(UITYPE_PY)\n",
    "edge_weights = amazon.cost.values\n",
    "indptr = convert_sorted_graph_to_csr(tail_vert, head_vert, n_vertices)"
   ]
  },
  {
   "cell_type": "code",
   "execution_count": 11,
   "metadata": {},
   "outputs": [],
   "source": [
    "# %%time\n",
    "# np.insert(amazon.tail_vert.value_counts().sort_index().reindex(np.arange(n_vertices), fill_value=0).cumsum().values, 0, 0)"
   ]
  },
  {
   "cell_type": "code",
   "execution_count": 12,
   "metadata": {},
   "outputs": [
    {
     "name": "stdout",
     "output_type": "stream",
     "text": [
      "CPU times: user 144 ms, sys: 0 ns, total: 144 ms\n",
      "Wall time: 143 ms\n"
     ]
    }
   ],
   "source": [
    "%%time\n",
    "cost_ed = path_length(head_vert, indptr, edge_weights, 0, n_vertices, n_jobs=-1)"
   ]
  },
  {
   "cell_type": "code",
   "execution_count": 13,
   "metadata": {},
   "outputs": [],
   "source": [
    "# cost_ed_df = pd.DataFrame(data=cost_ed, columns=['path_length'])"
   ]
  },
  {
   "cell_type": "markdown",
   "metadata": {},
   "source": [
    "### Check"
   ]
  },
  {
   "cell_type": "code",
   "execution_count": 14,
   "metadata": {},
   "outputs": [],
   "source": [
    "# cost_nx_df.equals(cost_ed_df)"
   ]
  },
  {
   "cell_type": "markdown",
   "metadata": {},
   "source": [
    "## Google web graph\n",
    "\n",
    "https://snap.stanford.edu/data/web-Google.html\n",
    "    \n",
    "Nodes: 875713  \n",
    "Edges: 5105039  "
   ]
  },
  {
   "cell_type": "code",
   "execution_count": 15,
   "metadata": {},
   "outputs": [
    {
     "data": {
      "text/html": [
       "<div>\n",
       "<style scoped>\n",
       "    .dataframe tbody tr th:only-of-type {\n",
       "        vertical-align: middle;\n",
       "    }\n",
       "\n",
       "    .dataframe tbody tr th {\n",
       "        vertical-align: top;\n",
       "    }\n",
       "\n",
       "    .dataframe thead th {\n",
       "        text-align: right;\n",
       "    }\n",
       "</style>\n",
       "<table border=\"1\" class=\"dataframe\">\n",
       "  <thead>\n",
       "    <tr style=\"text-align: right;\">\n",
       "      <th></th>\n",
       "      <th>tail_vert</th>\n",
       "      <th>head_vert</th>\n",
       "      <th>cost</th>\n",
       "    </tr>\n",
       "  </thead>\n",
       "  <tbody>\n",
       "    <tr>\n",
       "      <th>0</th>\n",
       "      <td>0</td>\n",
       "      <td>11342</td>\n",
       "      <td>0.252119</td>\n",
       "    </tr>\n",
       "    <tr>\n",
       "      <th>1</th>\n",
       "      <td>0</td>\n",
       "      <td>824020</td>\n",
       "      <td>0.135259</td>\n",
       "    </tr>\n",
       "  </tbody>\n",
       "</table>\n",
       "</div>"
      ],
      "text/plain": [
       "   tail_vert  head_vert      cost\n",
       "0          0      11342  0.252119\n",
       "1          0     824020  0.135259"
      ]
     },
     "execution_count": 15,
     "metadata": {},
     "output_type": "execute_result"
    }
   ],
   "source": [
    "network_file_path = os.path.join(data_dir_path, \"web-Google.txt\")\n",
    "google = pd.read_csv(network_file_path, sep='\\t', skiprows=3, header=0)\n",
    "google.columns = ['tail_vert', 'head_vert']\n",
    "# google['cost'] = 1.\n",
    "google['cost'] = np.random.rand(len(google))\n",
    "google.head(2)"
   ]
  },
  {
   "cell_type": "code",
   "execution_count": 16,
   "metadata": {},
   "outputs": [
    {
     "name": "stdout",
     "output_type": "stream",
     "text": [
      "<class 'pandas.core.frame.DataFrame'>\n",
      "RangeIndex: 5105039 entries, 0 to 5105038\n",
      "Data columns (total 3 columns):\n",
      "tail_vert    int64\n",
      "head_vert    int64\n",
      "cost         float64\n",
      "dtypes: float64(1), int64(2)\n",
      "memory usage: 116.8 MB\n"
     ]
    }
   ],
   "source": [
    "google.info()"
   ]
  },
  {
   "cell_type": "code",
   "execution_count": 17,
   "metadata": {},
   "outputs": [],
   "source": [
    "n_vertices = 875713"
   ]
  },
  {
   "cell_type": "markdown",
   "metadata": {},
   "source": [
    "### NetworkX"
   ]
  },
  {
   "cell_type": "code",
   "execution_count": 18,
   "metadata": {},
   "outputs": [],
   "source": [
    "# %%time\n",
    "# G = nx.from_pandas_edgelist(google, 'tail_vert', 'head_vert', ['cost'], create_using=nx.DiGraph)"
   ]
  },
  {
   "cell_type": "code",
   "execution_count": 19,
   "metadata": {},
   "outputs": [],
   "source": [
    "# G.number_of_nodes()"
   ]
  },
  {
   "cell_type": "code",
   "execution_count": 20,
   "metadata": {},
   "outputs": [],
   "source": [
    "# G.number_of_edges()"
   ]
  },
  {
   "cell_type": "code",
   "execution_count": 21,
   "metadata": {},
   "outputs": [],
   "source": [
    "# %%time\n",
    "# cost_nx = nx.algorithms.single_source_dijkstra_path_length(G, 0, weight='cost')"
   ]
  },
  {
   "cell_type": "code",
   "execution_count": 22,
   "metadata": {},
   "outputs": [],
   "source": [
    "# %%time\n",
    "# cost_nx_df = pd.DataFrame(data=cost_nx.values(), index=cost_nx.keys(), columns=['path_length']).sort_index()\n",
    "# cost_nx_df.head(2)"
   ]
  },
  {
   "cell_type": "code",
   "execution_count": 23,
   "metadata": {},
   "outputs": [],
   "source": [
    "# len(cost_nx_df)"
   ]
  },
  {
   "cell_type": "markdown",
   "metadata": {},
   "source": [
    "### Edsger"
   ]
  },
  {
   "cell_type": "code",
   "execution_count": 24,
   "metadata": {},
   "outputs": [],
   "source": [
    "google.sort_values(by=['tail_vert', 'head_vert'], ascending=True, inplace=True)\n",
    "google.reset_index(inplace=True, drop=True)\n",
    "assert google.index.is_monotonic\n",
    "assert google.index.is_unique\n",
    "assert google.index.min() == 0\n",
    "assert google.index.max() + 1 == len(google)"
   ]
  },
  {
   "cell_type": "code",
   "execution_count": 25,
   "metadata": {},
   "outputs": [
    {
     "name": "stdout",
     "output_type": "stream",
     "text": [
      "0 916427\n",
      "0 916427\n"
     ]
    }
   ],
   "source": [
    "print(google.tail_vert.min(), google.tail_vert.max())\n",
    "print(google.head_vert.min(), google.head_vert.max())"
   ]
  },
  {
   "cell_type": "code",
   "execution_count": 26,
   "metadata": {},
   "outputs": [
    {
     "name": "stdout",
     "output_type": "stream",
     "text": [
      "CPU times: user 73.8 ms, sys: 40.5 ms, total: 114 ms\n",
      "Wall time: 112 ms\n"
     ]
    }
   ],
   "source": [
    "%%time\n",
    "tail_vert = google.tail_vert.values.astype(UITYPE_PY)\n",
    "head_vert = google.head_vert.values.astype(UITYPE_PY)\n",
    "edge_weights = google.cost.values\n",
    "indptr = convert_sorted_graph_to_csr(tail_vert, head_vert, 916428)"
   ]
  },
  {
   "cell_type": "code",
   "execution_count": 27,
   "metadata": {},
   "outputs": [
    {
     "name": "stdout",
     "output_type": "stream",
     "text": [
      "CPU times: user 607 ms, sys: 42 µs, total: 607 ms\n",
      "Wall time: 603 ms\n"
     ]
    }
   ],
   "source": [
    "%%time\n",
    "cost_ed = path_length(head_vert, indptr, edge_weights, 0, 916428, n_jobs=-1)"
   ]
  },
  {
   "cell_type": "code",
   "execution_count": 28,
   "metadata": {},
   "outputs": [],
   "source": [
    "# cost_ed_df = pd.DataFrame(data=cost_ed, columns=['path_length'])"
   ]
  },
  {
   "cell_type": "code",
   "execution_count": 29,
   "metadata": {},
   "outputs": [],
   "source": [
    "# cost_ed_df = cost_ed_df[cost_ed_df.path_length < INFINITY_PY]"
   ]
  },
  {
   "cell_type": "code",
   "execution_count": 30,
   "metadata": {},
   "outputs": [],
   "source": [
    "# len(cost_ed_df)"
   ]
  },
  {
   "cell_type": "markdown",
   "metadata": {},
   "source": [
    "### Check"
   ]
  },
  {
   "cell_type": "code",
   "execution_count": 31,
   "metadata": {},
   "outputs": [],
   "source": [
    "# cost_nx_df.equals(cost_ed_df)"
   ]
  },
  {
   "cell_type": "markdown",
   "metadata": {},
   "source": [
    "## Pokec social network\n",
    "\n",
    "https://snap.stanford.edu/data/soc-Pokec.html\n",
    "\n",
    "Nodes: 1632803  \n",
    "Edges: 30622564  "
   ]
  },
  {
   "cell_type": "code",
   "execution_count": 32,
   "metadata": {},
   "outputs": [
    {
     "data": {
      "text/html": [
       "<div>\n",
       "<style scoped>\n",
       "    .dataframe tbody tr th:only-of-type {\n",
       "        vertical-align: middle;\n",
       "    }\n",
       "\n",
       "    .dataframe tbody tr th {\n",
       "        vertical-align: top;\n",
       "    }\n",
       "\n",
       "    .dataframe thead th {\n",
       "        text-align: right;\n",
       "    }\n",
       "</style>\n",
       "<table border=\"1\" class=\"dataframe\">\n",
       "  <thead>\n",
       "    <tr style=\"text-align: right;\">\n",
       "      <th></th>\n",
       "      <th>tail_vert</th>\n",
       "      <th>head_vert</th>\n",
       "      <th>cost</th>\n",
       "    </tr>\n",
       "  </thead>\n",
       "  <tbody>\n",
       "    <tr>\n",
       "      <th>0</th>\n",
       "      <td>1</td>\n",
       "      <td>4</td>\n",
       "      <td>0.516708</td>\n",
       "    </tr>\n",
       "    <tr>\n",
       "      <th>1</th>\n",
       "      <td>1</td>\n",
       "      <td>5</td>\n",
       "      <td>0.762884</td>\n",
       "    </tr>\n",
       "  </tbody>\n",
       "</table>\n",
       "</div>"
      ],
      "text/plain": [
       "   tail_vert  head_vert      cost\n",
       "0          1          4  0.516708\n",
       "1          1          5  0.762884"
      ]
     },
     "execution_count": 32,
     "metadata": {},
     "output_type": "execute_result"
    }
   ],
   "source": [
    "network_file_path = os.path.join(data_dir_path, \"soc-pokec-relationships.txt\")\n",
    "pokec = pd.read_csv(network_file_path, sep='\\t', skiprows=3, header=0)\n",
    "pokec.columns = ['tail_vert', 'head_vert']\n",
    "# pokec['cost'] = 1.\n",
    "pokec['cost'] = np.random.rand(len(pokec))\n",
    "pokec.head(2)"
   ]
  },
  {
   "cell_type": "code",
   "execution_count": 33,
   "metadata": {},
   "outputs": [
    {
     "name": "stdout",
     "output_type": "stream",
     "text": [
      "<class 'pandas.core.frame.DataFrame'>\n",
      "RangeIndex: 30622560 entries, 0 to 30622559\n",
      "Data columns (total 3 columns):\n",
      "tail_vert    int64\n",
      "head_vert    int64\n",
      "cost         float64\n",
      "dtypes: float64(1), int64(2)\n",
      "memory usage: 700.9 MB\n"
     ]
    }
   ],
   "source": [
    "pokec.info()"
   ]
  },
  {
   "cell_type": "code",
   "execution_count": 34,
   "metadata": {},
   "outputs": [],
   "source": [
    "n_vertices = 1632803"
   ]
  },
  {
   "cell_type": "markdown",
   "metadata": {},
   "source": [
    "### NetworkX"
   ]
  },
  {
   "cell_type": "code",
   "execution_count": 35,
   "metadata": {},
   "outputs": [],
   "source": [
    "# %%time\n",
    "# G = nx.from_pandas_edgelist(pokec, 'tail_vert', 'head_vert', ['cost'], create_using=nx.DiGraph)"
   ]
  },
  {
   "cell_type": "code",
   "execution_count": 36,
   "metadata": {},
   "outputs": [],
   "source": [
    "# %%time\n",
    "# cost_nx = nx.algorithms.single_source_dijkstra_path_length(G, 1, weight='cost')"
   ]
  },
  {
   "cell_type": "code",
   "execution_count": 37,
   "metadata": {},
   "outputs": [],
   "source": [
    "# %%time\n",
    "# cost_nx_df = pd.DataFrame(data=cost_nx.values(), index=cost_nx.keys(), columns=['path_length']).sort_index()\n",
    "# cost_nx_df.head(2)"
   ]
  },
  {
   "cell_type": "markdown",
   "metadata": {},
   "source": [
    "### Edsger"
   ]
  },
  {
   "cell_type": "code",
   "execution_count": 38,
   "metadata": {},
   "outputs": [],
   "source": [
    "pokec.sort_values(by=['tail_vert', 'head_vert'], ascending=True, inplace=True)\n",
    "pokec.reset_index(inplace=True, drop=True)\n",
    "assert pokec.index.is_monotonic\n",
    "assert pokec.index.is_unique\n",
    "assert pokec.index.min() == 0\n",
    "assert pokec.index.max() + 1 == len(pokec)"
   ]
  },
  {
   "cell_type": "code",
   "execution_count": 39,
   "metadata": {},
   "outputs": [
    {
     "name": "stdout",
     "output_type": "stream",
     "text": [
      "1 1632803\n",
      "1 1632803\n"
     ]
    }
   ],
   "source": [
    "print(pokec.tail_vert.min(), pokec.tail_vert.max())\n",
    "print(pokec.head_vert.min(), pokec.head_vert.max())"
   ]
  },
  {
   "cell_type": "code",
   "execution_count": 40,
   "metadata": {},
   "outputs": [
    {
     "name": "stdout",
     "output_type": "stream",
     "text": [
      "CPU times: user 338 ms, sys: 217 ms, total: 554 ms\n",
      "Wall time: 554 ms\n"
     ]
    }
   ],
   "source": [
    "%%time\n",
    "tail_vert = pokec.tail_vert.values.astype(UITYPE_PY)\n",
    "head_vert = pokec.head_vert.values.astype(UITYPE_PY)\n",
    "edge_weights = pokec.cost.values\n",
    "indptr = convert_sorted_graph_to_csr(tail_vert, head_vert, 1632804)"
   ]
  },
  {
   "cell_type": "code",
   "execution_count": 41,
   "metadata": {},
   "outputs": [
    {
     "name": "stdout",
     "output_type": "stream",
     "text": [
      "CPU times: user 2.95 s, sys: 4.89 ms, total: 2.96 s\n",
      "Wall time: 2.94 s\n"
     ]
    }
   ],
   "source": [
    "%%time\n",
    "cost_ed = path_length(head_vert, indptr, edge_weights, 1, 1632804, n_jobs=-1)"
   ]
  }
 ],
 "metadata": {
  "kernelspec": {
   "display_name": "Python 3",
   "language": "python",
   "name": "python3"
  },
  "language_info": {
   "codemirror_mode": {
    "name": "ipython",
    "version": 3
   },
   "file_extension": ".py",
   "mimetype": "text/x-python",
   "name": "python",
   "nbconvert_exporter": "python",
   "pygments_lexer": "ipython3",
   "version": "3.7.3"
  }
 },
 "nbformat": 4,
 "nbformat_minor": 4
}
