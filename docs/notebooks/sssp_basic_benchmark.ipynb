{
 "cells": [
  {
   "cell_type": "markdown",
   "metadata": {},
   "source": [
    "# Benchmark of edsger.sssp.path_length\n",
    "\n",
    "https://www.timlrx.com/2019/05/05/benchmark-of-popular-graph-network-packages/\n",
    "\n",
    "[Stanford Large Network Dataset Collection](https://snap.stanford.edu/data/index.html)"
   ]
  },
  {
   "cell_type": "code",
   "execution_count": 1,
   "metadata": {},
   "outputs": [],
   "source": [
    "import os\n",
    "\n",
    "import numpy as np\n",
    "import pandas as pd\n",
    "import networkx as nx\n",
    "import matplotlib.pyplot as plt\n",
    "plt.style.use('seaborn')\n",
    "%matplotlib inline\n",
    "\n",
    "from edsger.sssp import convert_sorted_graph_to_csr, path_length\n",
    "from edsger.commons import INFINITY_PY\n",
    "\n",
    "rs = 124\n",
    "np.random.seed(rs)\n",
    "data_dir_path = '../../data/'"
   ]
  },
  {
   "cell_type": "markdown",
   "metadata": {},
   "source": [
    "##  Amazon product co-purchasing network, March 02 2003\n",
    "\n",
    "https://snap.stanford.edu/data/amazon0302.html\n",
    "\n",
    "Nodes: 262111   \n",
    "Edges: 1234877"
   ]
  },
  {
   "cell_type": "code",
   "execution_count": 2,
   "metadata": {},
   "outputs": [],
   "source": [
    "network_file_path = os.path.join(data_dir_path, \"Amazon0302.txt\")"
   ]
  },
  {
   "cell_type": "code",
   "execution_count": 3,
   "metadata": {},
   "outputs": [
    {
     "data": {
      "text/html": [
       "<div>\n",
       "<style scoped>\n",
       "    .dataframe tbody tr th:only-of-type {\n",
       "        vertical-align: middle;\n",
       "    }\n",
       "\n",
       "    .dataframe tbody tr th {\n",
       "        vertical-align: top;\n",
       "    }\n",
       "\n",
       "    .dataframe thead th {\n",
       "        text-align: right;\n",
       "    }\n",
       "</style>\n",
       "<table border=\"1\" class=\"dataframe\">\n",
       "  <thead>\n",
       "    <tr style=\"text-align: right;\">\n",
       "      <th></th>\n",
       "      <th>tail_vert</th>\n",
       "      <th>head_vert</th>\n",
       "      <th>cost</th>\n",
       "    </tr>\n",
       "  </thead>\n",
       "  <tbody>\n",
       "    <tr>\n",
       "      <th>0</th>\n",
       "      <td>0</td>\n",
       "      <td>1</td>\n",
       "      <td>0.106065</td>\n",
       "    </tr>\n",
       "    <tr>\n",
       "      <th>1</th>\n",
       "      <td>0</td>\n",
       "      <td>2</td>\n",
       "      <td>0.745471</td>\n",
       "    </tr>\n",
       "  </tbody>\n",
       "</table>\n",
       "</div>"
      ],
      "text/plain": [
       "   tail_vert  head_vert      cost\n",
       "0          0          1  0.106065\n",
       "1          0          2  0.745471"
      ]
     },
     "execution_count": 3,
     "metadata": {},
     "output_type": "execute_result"
    }
   ],
   "source": [
    "amazon = pd.read_csv(network_file_path, sep='\\t', skiprows=3, header=0)\n",
    "amazon.columns = ['tail_vert', 'head_vert']\n",
    "# amazon['cost'] = 1.\n",
    "amazon['cost'] = np.random.rand(len(amazon))\n",
    "amazon.head(2)"
   ]
  },
  {
   "cell_type": "code",
   "execution_count": 4,
   "metadata": {},
   "outputs": [
    {
     "name": "stdout",
     "output_type": "stream",
     "text": [
      "<class 'pandas.core.frame.DataFrame'>\n",
      "RangeIndex: 1234877 entries, 0 to 1234876\n",
      "Data columns (total 3 columns):\n",
      "tail_vert    1234877 non-null int64\n",
      "head_vert    1234877 non-null int64\n",
      "cost         1234877 non-null float64\n",
      "dtypes: float64(1), int64(2)\n",
      "memory usage: 28.3 MB\n"
     ]
    }
   ],
   "source": [
    "amazon.info()"
   ]
  },
  {
   "cell_type": "code",
   "execution_count": 5,
   "metadata": {},
   "outputs": [],
   "source": [
    "n_vertices = 262111"
   ]
  },
  {
   "cell_type": "markdown",
   "metadata": {},
   "source": [
    "### NetworkX"
   ]
  },
  {
   "cell_type": "code",
   "execution_count": 6,
   "metadata": {},
   "outputs": [
    {
     "name": "stdout",
     "output_type": "stream",
     "text": [
      "CPU times: user 5.75 s, sys: 165 ms, total: 5.92 s\n",
      "Wall time: 5.93 s\n"
     ]
    }
   ],
   "source": [
    "%%time\n",
    "G = nx.from_pandas_edgelist(amazon, 'tail_vert', 'head_vert', ['cost'], create_using=nx.DiGraph)"
   ]
  },
  {
   "cell_type": "code",
   "execution_count": 7,
   "metadata": {},
   "outputs": [
    {
     "name": "stdout",
     "output_type": "stream",
     "text": [
      "CPU times: user 1.41 s, sys: 23.9 ms, total: 1.44 s\n",
      "Wall time: 1.44 s\n"
     ]
    }
   ],
   "source": [
    "%%time\n",
    "cost_nx = nx.algorithms.single_source_dijkstra_path_length(G, 0, weight='cost')"
   ]
  },
  {
   "cell_type": "code",
   "execution_count": 8,
   "metadata": {},
   "outputs": [
    {
     "name": "stdout",
     "output_type": "stream",
     "text": [
      "CPU times: user 174 ms, sys: 3.89 ms, total: 178 ms\n",
      "Wall time: 177 ms\n"
     ]
    },
    {
     "data": {
      "text/html": [
       "<div>\n",
       "<style scoped>\n",
       "    .dataframe tbody tr th:only-of-type {\n",
       "        vertical-align: middle;\n",
       "    }\n",
       "\n",
       "    .dataframe tbody tr th {\n",
       "        vertical-align: top;\n",
       "    }\n",
       "\n",
       "    .dataframe thead th {\n",
       "        text-align: right;\n",
       "    }\n",
       "</style>\n",
       "<table border=\"1\" class=\"dataframe\">\n",
       "  <thead>\n",
       "    <tr style=\"text-align: right;\">\n",
       "      <th></th>\n",
       "      <th>path_length</th>\n",
       "    </tr>\n",
       "  </thead>\n",
       "  <tbody>\n",
       "    <tr>\n",
       "      <th>0</th>\n",
       "      <td>0.000000</td>\n",
       "    </tr>\n",
       "    <tr>\n",
       "      <th>1</th>\n",
       "      <td>0.106065</td>\n",
       "    </tr>\n",
       "  </tbody>\n",
       "</table>\n",
       "</div>"
      ],
      "text/plain": [
       "   path_length\n",
       "0     0.000000\n",
       "1     0.106065"
      ]
     },
     "execution_count": 8,
     "metadata": {},
     "output_type": "execute_result"
    }
   ],
   "source": [
    "%%time\n",
    "cost_nx_df = pd.DataFrame(data=cost_nx.values(), index=cost_nx.keys(), columns=['path_length']).sort_index()\n",
    "cost_nx_df.head(2)"
   ]
  },
  {
   "cell_type": "markdown",
   "metadata": {},
   "source": [
    "### Edsger"
   ]
  },
  {
   "cell_type": "code",
   "execution_count": 9,
   "metadata": {},
   "outputs": [],
   "source": [
    "# amazon.sort_values(by=['tail_vert', 'head_vert'], ascending=True, inplace=True)\n",
    "assert amazon.index.is_monotonic\n",
    "assert amazon.index.is_unique\n",
    "assert amazon.index.min() == 0\n",
    "assert amazon.index.max() + 1 == len(amazon)"
   ]
  },
  {
   "cell_type": "code",
   "execution_count": 10,
   "metadata": {},
   "outputs": [
    {
     "name": "stdout",
     "output_type": "stream",
     "text": [
      "26.7 ms ± 4.63 ms per loop (mean ± std. dev. of 3 runs, 1 loop each)\n"
     ]
    },
    {
     "data": {
      "text/plain": [
       "<TimeitResult : 26.7 ms ± 4.63 ms per loop (mean ± std. dev. of 3 runs, 1 loop each)>"
      ]
     },
     "execution_count": 10,
     "metadata": {},
     "output_type": "execute_result"
    }
   ],
   "source": [
    "%%timeit -n 1 -r 3 -o \n",
    "tail_vert = amazon.tail_vert.values.astype(np.uint32)\n",
    "head_vert = amazon.head_vert.values.astype(np.uint32)\n",
    "edge_weights = amazon.cost.values\n",
    "indptr = convert_sorted_graph_to_csr(tail_vert, head_vert, n_vertices)"
   ]
  },
  {
   "cell_type": "code",
   "execution_count": null,
   "metadata": {},
   "outputs": [],
   "source": [
    "%%timeit -n 1 -r 3 -o \n",
    "np.insert(amazon.tail_vert.value_counts().sort_index().reindex(np.arange(n_vertices), fill_value=0).cumsum().values, 0, 0)"
   ]
  },
  {
   "cell_type": "code",
   "execution_count": null,
   "metadata": {},
   "outputs": [],
   "source": [
    "%%timeit -n 1 -r 3 -o \n",
    "cost_ed = path_length(head_vert, indptr, edge_weights, 0, n_vertices)"
   ]
  },
  {
   "cell_type": "code",
   "execution_count": null,
   "metadata": {},
   "outputs": [],
   "source": [
    "cost_ed_df = pd.DataFrame(data=cost_ed, columns=['path_length'])"
   ]
  },
  {
   "cell_type": "markdown",
   "metadata": {},
   "source": [
    "### Check"
   ]
  },
  {
   "cell_type": "code",
   "execution_count": null,
   "metadata": {},
   "outputs": [],
   "source": [
    "cost_nx_df.equals(cost_ed_df)"
   ]
  },
  {
   "cell_type": "markdown",
   "metadata": {},
   "source": [
    "## Google web graph\n",
    "\n",
    "https://snap.stanford.edu/data/web-Google.html\n",
    "    \n",
    "Nodes: 875713  \n",
    "Edges: 5105039  "
   ]
  },
  {
   "cell_type": "code",
   "execution_count": null,
   "metadata": {},
   "outputs": [],
   "source": [
    "network_file_path = os.path.join(data_dir_path, \"web-Google.txt\")\n",
    "google = pd.read_csv(network_file_path, sep='\\t', skiprows=3, header=0)\n",
    "google.columns = ['tail_vert', 'head_vert']\n",
    "# google['cost'] = 1.\n",
    "google['cost'] = np.random.rand(len(google))\n",
    "google.head(2)"
   ]
  },
  {
   "cell_type": "code",
   "execution_count": null,
   "metadata": {},
   "outputs": [],
   "source": [
    "google.info()"
   ]
  },
  {
   "cell_type": "code",
   "execution_count": null,
   "metadata": {},
   "outputs": [],
   "source": [
    "n_vertices = 875713"
   ]
  },
  {
   "cell_type": "markdown",
   "metadata": {},
   "source": [
    "### NetworkX"
   ]
  },
  {
   "cell_type": "code",
   "execution_count": null,
   "metadata": {},
   "outputs": [],
   "source": [
    "%%time\n",
    "G = nx.from_pandas_edgelist(google, 'tail_vert', 'head_vert', ['cost'], create_using=nx.DiGraph)"
   ]
  },
  {
   "cell_type": "code",
   "execution_count": null,
   "metadata": {},
   "outputs": [],
   "source": [
    "G.number_of_nodes()"
   ]
  },
  {
   "cell_type": "code",
   "execution_count": null,
   "metadata": {},
   "outputs": [],
   "source": [
    "G.number_of_edges()"
   ]
  },
  {
   "cell_type": "code",
   "execution_count": null,
   "metadata": {},
   "outputs": [],
   "source": [
    "%%time\n",
    "cost_nx = nx.algorithms.single_source_dijkstra_path_length(G, 0, weight='cost')"
   ]
  },
  {
   "cell_type": "code",
   "execution_count": null,
   "metadata": {},
   "outputs": [],
   "source": [
    "%%time\n",
    "cost_nx_df = pd.DataFrame(data=cost_nx.values(), index=cost_nx.keys(), columns=['path_length']).sort_index()\n",
    "cost_nx_df.head(2)"
   ]
  },
  {
   "cell_type": "code",
   "execution_count": null,
   "metadata": {},
   "outputs": [],
   "source": [
    "len(cost_nx_df)"
   ]
  },
  {
   "cell_type": "markdown",
   "metadata": {},
   "source": [
    "### Edsger"
   ]
  },
  {
   "cell_type": "code",
   "execution_count": null,
   "metadata": {},
   "outputs": [],
   "source": [
    "google.sort_values(by=['tail_vert', 'head_vert'], ascending=True, inplace=True)\n",
    "google.reset_index(inplace=True, drop=True)\n",
    "assert google.index.is_monotonic\n",
    "assert google.index.is_unique\n",
    "assert google.index.min() == 0\n",
    "assert google.index.max() + 1 == len(google)"
   ]
  },
  {
   "cell_type": "code",
   "execution_count": null,
   "metadata": {},
   "outputs": [],
   "source": [
    "print(google.tail_vert.min(), google.tail_vert.max())\n",
    "print(google.head_vert.min(), google.head_vert.max())"
   ]
  },
  {
   "cell_type": "code",
   "execution_count": null,
   "metadata": {},
   "outputs": [],
   "source": [
    "%%time\n",
    "tail_vert = google.tail_vert.values.astype(np.uint32)\n",
    "head_vert = google.head_vert.values.astype(np.uint32)\n",
    "edge_weights = google.cost.values\n",
    "indptr = convert_sorted_graph_to_csr(tail_vert, head_vert, 916428)"
   ]
  },
  {
   "cell_type": "code",
   "execution_count": null,
   "metadata": {},
   "outputs": [],
   "source": [
    "%%time\n",
    "cost_ed = path_length(head_vert, indptr, edge_weights, 0, 916428)"
   ]
  },
  {
   "cell_type": "code",
   "execution_count": null,
   "metadata": {},
   "outputs": [],
   "source": [
    "cost_ed_df = pd.DataFrame(data=cost_ed, columns=['path_length'])"
   ]
  },
  {
   "cell_type": "code",
   "execution_count": null,
   "metadata": {},
   "outputs": [],
   "source": [
    "cost_ed_df = cost_ed_df[cost_ed_df.path_length < INFINITY_PY]"
   ]
  },
  {
   "cell_type": "code",
   "execution_count": null,
   "metadata": {},
   "outputs": [],
   "source": [
    "len(cost_ed_df)"
   ]
  },
  {
   "cell_type": "markdown",
   "metadata": {},
   "source": [
    "### Check"
   ]
  },
  {
   "cell_type": "code",
   "execution_count": null,
   "metadata": {},
   "outputs": [],
   "source": [
    "cost_nx_df.equals(cost_ed_df)"
   ]
  }
 ],
 "metadata": {
  "kernelspec": {
   "display_name": "Python 3",
   "language": "python",
   "name": "python3"
  },
  "language_info": {
   "codemirror_mode": {
    "name": "ipython",
    "version": 3
   },
   "file_extension": ".py",
   "mimetype": "text/x-python",
   "name": "python",
   "nbconvert_exporter": "python",
   "pygments_lexer": "ipython3",
   "version": "3.7.3"
  }
 },
 "nbformat": 4,
 "nbformat_minor": 4
}
